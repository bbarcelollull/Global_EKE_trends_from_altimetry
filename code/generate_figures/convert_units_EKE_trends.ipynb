{
 "cells": [
  {
   "cell_type": "markdown",
   "id": "243d6e31",
   "metadata": {},
   "source": [
    "# Convert units of EKE trends"
   ]
  },
  {
   "cell_type": "markdown",
   "id": "e0b8ec07",
   "metadata": {},
   "source": [
    "### Function to convert units"
   ]
  },
  {
   "cell_type": "code",
   "execution_count": 1,
   "id": "948c7d6e",
   "metadata": {},
   "outputs": [],
   "source": [
    "def convert_trends(all_sat_trend, two_sat_trend, \n",
    "                   all_sat_mean, two_sat_mean, \n",
    "                   area_surface_high_EKE):\n",
    "    \n",
    "    # 1) convert units from [cm2 s-2 y-1] to [J m^(-3) y-1]\n",
    "    \n",
    "    # EKE [J m^(-3)]  ~ 0.1025 ∙ normalized EKE [〖cm〗^2 s^(-2)].\n",
    "    fconv = 0.1025\n",
    "    \n",
    "    all_sat_trend_conv = fconv *  all_sat_trend\n",
    "    two_sat_trend_conv = fconv *  two_sat_trend\n",
    "    \n",
    "    print('')\n",
    "    print('EKE trend all-sat [[J m^(-3) y-1] ]: ', all_sat_trend_conv)\n",
    "    print('EKE trend two-sat [[J m^(-3)] y-1]: ', two_sat_trend_conv)\n",
    "    \n",
    "    # 2) Increase per decade relative their EKE mean values:\n",
    "    \n",
    "    all_sat_inc = (all_sat_trend*10/all_sat_mean)*100\n",
    "    two_sat_inc = (two_sat_trend*10/two_sat_mean)*100\n",
    "    \n",
    "    print('')\n",
    "    print('Increase per decade all-sat (%): ', all_sat_inc)\n",
    "    print('Increase per decade two-sat (%): ', two_sat_inc)\n",
    "    \n",
    "    # 3) Area integrated EKE trend per decade\n",
    "    \n",
    "    area_surface_high_EKE_m2 = area_surface_high_EKE * 1000 * 1000 #m2\n",
    "    \n",
    "    all_sat_EKE_trend_area_int = all_sat_trend_conv * 10 * area_surface_high_EKE_m2\n",
    "    two_sat_EKE_trend_area_int = two_sat_trend_conv * 10 * area_surface_high_EKE_m2\n",
    "    \n",
    "    fnot = 1e15\n",
    "    \n",
    "    print('')\n",
    "    print('Area integrated EKE trend all-sat (x 10^{15} J m-1 decade-1): ', \n",
    "          all_sat_EKE_trend_area_int/fnot) \n",
    "    print('Area integrated EKE trend two-sat (x 10^{15} J m-1 decade-1): ', \n",
    "          two_sat_EKE_trend_area_int/fnot)\n",
    "        "
   ]
  },
  {
   "cell_type": "markdown",
   "id": "a78ce674",
   "metadata": {},
   "source": [
    "## Global trends"
   ]
  },
  {
   "cell_type": "markdown",
   "id": "b0ceeac6",
   "metadata": {},
   "source": [
    "### Trends you want to convert"
   ]
  },
  {
   "cell_type": "code",
   "execution_count": 2,
   "id": "1750557c",
   "metadata": {},
   "outputs": [],
   "source": [
    "# all-sat and two-sat DT2021 global trend (1993-2022)\n",
    "all_sat_trend_global = 0.64 #cm2 s-2 y-1\n",
    "two_sat_trend_global = 0.19 #cm2 s-2 y-1\n",
    "\n",
    "# two-sat DT2018 global trend\n",
    "#two_sat_trend_18_raw = -0.0022 #cm2 s-2 y-1\n",
    "#two_sat_trend_18_roll = 0.0059 #cm2 s-2 y-1"
   ]
  },
  {
   "cell_type": "markdown",
   "id": "aedd8d4f",
   "metadata": {},
   "source": [
    "### Global mean EKE (from Table 1)"
   ]
  },
  {
   "cell_type": "code",
   "execution_count": 3,
   "id": "7ee60f4f",
   "metadata": {},
   "outputs": [],
   "source": [
    "all_sat_mean_global = 224.83 #cm2 s-2\n",
    "two_sat_mean_global = 227.09 #cm2 s-2"
   ]
  },
  {
   "cell_type": "markdown",
   "id": "c2b95c6b",
   "metadata": {},
   "source": [
    "### Area (from Table 1)"
   ]
  },
  {
   "cell_type": "code",
   "execution_count": 4,
   "id": "1907d19f",
   "metadata": {},
   "outputs": [],
   "source": [
    "area_surface_global_ocean = 3.28e8 # km2"
   ]
  },
  {
   "cell_type": "markdown",
   "id": "e46df59e",
   "metadata": {},
   "source": [
    "### Compute everything for the global ocean:"
   ]
  },
  {
   "cell_type": "code",
   "execution_count": 5,
   "id": "4d743fd1",
   "metadata": {},
   "outputs": [
    {
     "name": "stdout",
     "output_type": "stream",
     "text": [
      "\n",
      "EKE trend all-sat [[J m^(-3) y-1] ]:  0.06559999999999999\n",
      "EKE trend two-sat [[J m^(-3)] y-1]:  0.019475\n",
      "\n",
      "Increase per decade all-sat (%):  2.846595205266201\n",
      "Increase per decade two-sat (%):  0.8366726848386102\n",
      "\n",
      "Area integrated EKE trend all-sat (x 10^{15} J m-1 decade-1):  0.21516799999999997\n",
      "Area integrated EKE trend two-sat (x 10^{15} J m-1 decade-1):  0.06387799999999999\n"
     ]
    }
   ],
   "source": [
    "convert_trends(all_sat_trend_global, two_sat_trend_global, \n",
    "                   all_sat_mean_global, two_sat_mean_global, \n",
    "                   area_surface_global_ocean)"
   ]
  },
  {
   "cell_type": "markdown",
   "id": "c1b46fbd",
   "metadata": {},
   "source": [
    "## High EKE region trends"
   ]
  },
  {
   "cell_type": "markdown",
   "id": "24795285",
   "metadata": {
    "vscode": {
     "languageId": "raw"
    }
   },
   "source": [
    "### Trends you want to convert"
   ]
  },
  {
   "cell_type": "code",
   "execution_count": 6,
   "id": "d4ba1dbf",
   "metadata": {},
   "outputs": [],
   "source": [
    "# all-sat and two-sat DT2021 trends over high EKE regions (1993-2022)\n",
    "all_sat_trend_high_EKE = 5.80  #cm2 s-2 y-1\n",
    "two_sat_trend_high_EKE = 2.50  #cm2 s-2 y-1"
   ]
  },
  {
   "cell_type": "markdown",
   "id": "6c0ae2b1",
   "metadata": {},
   "source": [
    "### Mean EKE (from Table 1)"
   ]
  },
  {
   "cell_type": "code",
   "execution_count": 7,
   "id": "d66fe7e2",
   "metadata": {},
   "outputs": [],
   "source": [
    "all_sat_mean_high_EKE = 1018.12 #cm2 s-2\n",
    "two_sat_mean_high_EKE = 1003.62  #cm2 s-2"
   ]
  },
  {
   "cell_type": "markdown",
   "id": "61f2b121",
   "metadata": {},
   "source": [
    "### Area (from Table 1)"
   ]
  },
  {
   "cell_type": "code",
   "execution_count": 8,
   "id": "1f15875c",
   "metadata": {},
   "outputs": [],
   "source": [
    "area_surface_high_EKE     = 1.65e7 # km2"
   ]
  },
  {
   "cell_type": "markdown",
   "id": "534ca428",
   "metadata": {},
   "source": [
    "### Compute everything for the high EKE regions:"
   ]
  },
  {
   "cell_type": "code",
   "execution_count": 9,
   "id": "f7852260",
   "metadata": {},
   "outputs": [
    {
     "name": "stdout",
     "output_type": "stream",
     "text": [
      "\n",
      "EKE trend all-sat [[J m^(-3) y-1] ]:  0.5944999999999999\n",
      "EKE trend two-sat [[J m^(-3)] y-1]:  0.25625\n",
      "\n",
      "Increase per decade all-sat (%):  5.6967744470199975\n",
      "Increase per decade two-sat (%):  2.490982642832945\n",
      "\n",
      "Area integrated EKE trend all-sat (x 10^{15} J m-1 decade-1):  0.09809249999999999\n",
      "Area integrated EKE trend two-sat (x 10^{15} J m-1 decade-1):  0.04228125\n"
     ]
    }
   ],
   "source": [
    "convert_trends(all_sat_trend_high_EKE, two_sat_trend_high_EKE, \n",
    "                   all_sat_mean_high_EKE, two_sat_mean_high_EKE, \n",
    "                   area_surface_high_EKE)"
   ]
  },
  {
   "cell_type": "markdown",
   "id": "c46ce35d",
   "metadata": {},
   "source": [
    "## Kuroshio Extension"
   ]
  },
  {
   "cell_type": "markdown",
   "id": "24e2bdfa",
   "metadata": {},
   "source": [
    "### Mean EKE (from Table 1)"
   ]
  },
  {
   "cell_type": "code",
   "execution_count": 10,
   "id": "3d601038",
   "metadata": {},
   "outputs": [],
   "source": [
    "all_sat_mean_KE = 1043.04 #cm2 s-2\n",
    "two_sat_mean_KE = 1028.11  #cm2 s-2"
   ]
  },
  {
   "cell_type": "markdown",
   "id": "73c9c271",
   "metadata": {},
   "source": [
    "### Area (from Table 1)"
   ]
  },
  {
   "cell_type": "code",
   "execution_count": 11,
   "id": "de358542",
   "metadata": {},
   "outputs": [],
   "source": [
    "area_surface_KE     = 2.72e6 # km2"
   ]
  },
  {
   "cell_type": "markdown",
   "id": "10264a66",
   "metadata": {},
   "source": [
    "### Trends over 1993-2022"
   ]
  },
  {
   "cell_type": "code",
   "execution_count": 12,
   "id": "d04dfeeb",
   "metadata": {},
   "outputs": [],
   "source": [
    "# all-sat and two-sat DT2021 trends (1993-2022)\n",
    "all_sat_trend_KE = 9.70  #cm2 s-2 y-1\n",
    "two_sat_trend_KE = 8.31  #cm2 s-2 y-1"
   ]
  },
  {
   "cell_type": "markdown",
   "id": "647fe19a",
   "metadata": {},
   "source": [
    "### Compute everything for the KE over 1993-2022:"
   ]
  },
  {
   "cell_type": "code",
   "execution_count": 13,
   "id": "6e75d220",
   "metadata": {},
   "outputs": [
    {
     "name": "stdout",
     "output_type": "stream",
     "text": [
      "\n",
      "EKE trend all-sat [[J m^(-3) y-1] ]:  0.9942499999999999\n",
      "EKE trend two-sat [[J m^(-3)] y-1]:  0.851775\n",
      "\n",
      "Increase per decade all-sat (%):  9.299739223807332\n",
      "Increase per decade two-sat (%):  8.082792697279476\n",
      "\n",
      "Area integrated EKE trend all-sat (x 10^{15} J m-1 decade-1):  0.027043599999999998\n",
      "Area integrated EKE trend two-sat (x 10^{15} J m-1 decade-1):  0.02316828\n"
     ]
    }
   ],
   "source": [
    "convert_trends(all_sat_trend_KE, two_sat_trend_KE, \n",
    "                   all_sat_mean_KE, two_sat_mean_KE, \n",
    "                   area_surface_KE)"
   ]
  },
  {
   "cell_type": "markdown",
   "id": "bac47d44",
   "metadata": {},
   "source": [
    "### Trends over 2013-2022"
   ]
  },
  {
   "cell_type": "code",
   "execution_count": 14,
   "id": "e28403f6",
   "metadata": {},
   "outputs": [],
   "source": [
    "# all-sat and two-sat DT2021 trends (2013-2022)\n",
    "all_sat_trend_KE_10y = 55.96  #cm2 s-2 y-1\n",
    "two_sat_trend_KE_10y = 59.73  #cm2 s-2 y-1"
   ]
  },
  {
   "cell_type": "markdown",
   "id": "837d34af",
   "metadata": {},
   "source": [
    "### Compute everything for the KE over 2013-2022:"
   ]
  },
  {
   "cell_type": "code",
   "execution_count": 15,
   "id": "83985881",
   "metadata": {
    "scrolled": true
   },
   "outputs": [
    {
     "name": "stdout",
     "output_type": "stream",
     "text": [
      "\n",
      "EKE trend all-sat [[J m^(-3) y-1] ]:  5.7359\n",
      "EKE trend two-sat [[J m^(-3)] y-1]:  6.122324999999999\n",
      "\n",
      "Increase per decade all-sat (%):  53.650866697346224\n",
      "Increase per decade two-sat (%):  58.09689624651059\n",
      "\n",
      "Area integrated EKE trend all-sat (x 10^{15} J m-1 decade-1):  0.15601648\n",
      "Area integrated EKE trend two-sat (x 10^{15} J m-1 decade-1):  0.16652723999999997\n"
     ]
    }
   ],
   "source": [
    "convert_trends(all_sat_trend_KE_10y, two_sat_trend_KE_10y, \n",
    "                   all_sat_mean_KE, two_sat_mean_KE, \n",
    "                   area_surface_KE)"
   ]
  },
  {
   "cell_type": "markdown",
   "id": "23d1020b",
   "metadata": {},
   "source": [
    "## Gulf Stream"
   ]
  },
  {
   "cell_type": "markdown",
   "id": "b3ef9bfb",
   "metadata": {},
   "source": [
    "### Mean EKE (from Table 1)"
   ]
  },
  {
   "cell_type": "code",
   "execution_count": 16,
   "id": "43b32374",
   "metadata": {},
   "outputs": [],
   "source": [
    "all_sat_mean_GS = 1078.97 #cm2 s-2\n",
    "two_sat_mean_GS = 1061.14  #cm2 s-2"
   ]
  },
  {
   "cell_type": "markdown",
   "id": "d8018cb0",
   "metadata": {},
   "source": [
    "### Area (from Table 1)"
   ]
  },
  {
   "cell_type": "code",
   "execution_count": 17,
   "id": "62a2f676",
   "metadata": {},
   "outputs": [],
   "source": [
    "area_surface_GS     = 2.80e6 # km2"
   ]
  },
  {
   "cell_type": "markdown",
   "id": "e44e97ec",
   "metadata": {},
   "source": [
    "### Trends over 1993-2022"
   ]
  },
  {
   "cell_type": "code",
   "execution_count": 18,
   "id": "5a687184",
   "metadata": {},
   "outputs": [],
   "source": [
    "# all-sat and two-sat DT2021 trends (1993-2022)\n",
    "all_sat_trend_GS = 7.06  #cm2 s-2 y-1\n",
    "two_sat_trend_GS = 2.27  #cm2 s-2 y-1"
   ]
  },
  {
   "cell_type": "markdown",
   "id": "60cb9d86",
   "metadata": {},
   "source": [
    "### Compute everything for the GS over 1993-2022:"
   ]
  },
  {
   "cell_type": "code",
   "execution_count": 19,
   "id": "de5e79fd",
   "metadata": {},
   "outputs": [
    {
     "name": "stdout",
     "output_type": "stream",
     "text": [
      "\n",
      "EKE trend all-sat [[J m^(-3) y-1] ]:  0.7236499999999999\n",
      "EKE trend two-sat [[J m^(-3)] y-1]:  0.232675\n",
      "\n",
      "Increase per decade all-sat (%):  6.543277384913389\n",
      "Increase per decade two-sat (%):  2.1392087754678926\n",
      "\n",
      "Area integrated EKE trend all-sat (x 10^{15} J m-1 decade-1):  0.0202622\n",
      "Area integrated EKE trend two-sat (x 10^{15} J m-1 decade-1):  0.0065149\n"
     ]
    }
   ],
   "source": [
    "convert_trends(all_sat_trend_GS, two_sat_trend_GS, \n",
    "                   all_sat_mean_GS, two_sat_mean_GS, \n",
    "                   area_surface_GS)"
   ]
  },
  {
   "cell_type": "markdown",
   "id": "07f8f585",
   "metadata": {},
   "source": [
    "### Trends over 2013-2022"
   ]
  },
  {
   "cell_type": "code",
   "execution_count": 20,
   "id": "5cc7f400",
   "metadata": {},
   "outputs": [],
   "source": [
    "# all-sat and two-sat DT2021 trends (2013-2022)\n",
    "all_sat_trend_GS_10y = 24.50  #cm2 s-2 y-1\n",
    "two_sat_trend_GS_10y = 19.20  #cm2 s-2 y-1"
   ]
  },
  {
   "cell_type": "markdown",
   "id": "a6751aa8",
   "metadata": {},
   "source": [
    "### Compute everything for the GS over 2013-2022:"
   ]
  },
  {
   "cell_type": "code",
   "execution_count": 21,
   "id": "7a757a0a",
   "metadata": {
    "scrolled": true
   },
   "outputs": [
    {
     "name": "stdout",
     "output_type": "stream",
     "text": [
      "\n",
      "EKE trend all-sat [[J m^(-3) y-1] ]:  2.51125\n",
      "EKE trend two-sat [[J m^(-3)] y-1]:  1.9679999999999997\n",
      "\n",
      "Increase per decade all-sat (%):  22.706840783339665\n",
      "Increase per decade two-sat (%):  18.093748233032397\n",
      "\n",
      "Area integrated EKE trend all-sat (x 10^{15} J m-1 decade-1):  0.070315\n",
      "Area integrated EKE trend two-sat (x 10^{15} J m-1 decade-1):  0.05510399999999999\n"
     ]
    }
   ],
   "source": [
    "convert_trends(all_sat_trend_GS_10y, two_sat_trend_GS_10y, \n",
    "                   all_sat_mean_GS, two_sat_mean_GS, \n",
    "                   area_surface_GS)"
   ]
  },
  {
   "cell_type": "markdown",
   "id": "d516e0fd",
   "metadata": {},
   "source": [
    "## Other computations"
   ]
  },
  {
   "cell_type": "code",
   "execution_count": 22,
   "id": "d99de90c",
   "metadata": {},
   "outputs": [
    {
     "data": {
      "text/plain": [
       "2.9793103448275864"
      ]
     },
     "execution_count": 22,
     "metadata": {},
     "output_type": "execute_result"
    }
   ],
   "source": [
    "17.28/5.8"
   ]
  },
  {
   "cell_type": "code",
   "execution_count": 23,
   "id": "af2f7605",
   "metadata": {},
   "outputs": [
    {
     "data": {
      "text/plain": [
       "5.968"
      ]
     },
     "execution_count": 23,
     "metadata": {},
     "output_type": "execute_result"
    }
   ],
   "source": [
    "14.92/2.5"
   ]
  },
  {
   "cell_type": "code",
   "execution_count": 24,
   "id": "6a596c85",
   "metadata": {},
   "outputs": [
    {
     "data": {
      "text/plain": [
       "4.604938271604938"
      ]
     },
     "execution_count": 24,
     "metadata": {},
     "output_type": "execute_result"
    }
   ],
   "source": [
    "14.92/3.24"
   ]
  }
 ],
 "metadata": {
  "kernelspec": {
   "display_name": "Python 3 (ipykernel)",
   "language": "python",
   "name": "python3"
  },
  "language_info": {
   "codemirror_mode": {
    "name": "ipython",
    "version": 3
   },
   "file_extension": ".py",
   "mimetype": "text/x-python",
   "name": "python",
   "nbconvert_exporter": "python",
   "pygments_lexer": "ipython3",
   "version": "3.9.13"
  }
 },
 "nbformat": 4,
 "nbformat_minor": 5
}
