{
 "cells": [
  {
   "cell_type": "markdown",
   "metadata": {},
   "source": [
    "# Table 1"
   ]
  },
  {
   "cell_type": "markdown",
   "metadata": {},
   "source": [
    "**Table 1. Area and mean EKE over each region of study.** This table shows the total area of each study region (Area) and the area-weighted mean of the temporally averaged EKE computed over the period 1993-2022 from the all-sat and two-sat altimetric products (Mean EKE). The regions analyzed include the global ocean (Global), the high EKE regions (High EKE), the tropical band (Tropical), the global ocean excluding the high EKE regions and the tropical band (Residual), and each specific high EKE region: Gulf Stream (GS), Kuroshio Extension (KE), Agulhas Current (AC), Brazil Malvinas Confluence region (BMC), Loop Current (LC), Great Whirl and Socotra Eddy in East Africa (GWSE), and East Australian Current (EAC)."
   ]
  },
  {
   "cell_type": "markdown",
   "metadata": {},
   "source": [
    "### Import libraries"
   ]
  },
  {
   "cell_type": "code",
   "execution_count": 1,
   "metadata": {},
   "outputs": [],
   "source": [
    "%reload_ext autoreload\n",
    "%autoreload 2\n",
    "\n",
    "import xarray as xr\n",
    "import numpy as np\n",
    "import pandas as pd\n",
    "import sys\n",
    "import os\n",
    "sys.path.append(os.path.abspath(os.path.join(os.getcwd(), '..')))\n",
    "import utils"
   ]
  },
  {
   "cell_type": "markdown",
   "metadata": {},
   "source": [
    "### Open masks"
   ]
  },
  {
   "cell_type": "code",
   "execution_count": 2,
   "metadata": {},
   "outputs": [],
   "source": [
    "masks = xr.open_dataset('../../results/masks.nc')"
   ]
  },
  {
   "cell_type": "markdown",
   "metadata": {},
   "source": [
    "### Open files with the EKE mean"
   ]
  },
  {
   "cell_type": "code",
   "execution_count": 3,
   "metadata": {},
   "outputs": [],
   "source": [
    "sats = ['ALL_SAT', 'TWO_SAT']\n",
    "dic = {sat: {} for sat in sats}\n",
    "for sat in sats:\n",
    "\n",
    "    path_tmean = f'../../results/EKE_{sat}/tmean/EKE_{sat}_tmean.nc'\n",
    "\n",
    "    dic[sat]['tmean'] = xr.open_dataset(path_tmean)\n",
    "    "
   ]
  },
  {
   "cell_type": "markdown",
   "metadata": {},
   "source": [
    "### Compute global area and save it into an xarray dataset"
   ]
  },
  {
   "cell_type": "code",
   "execution_count": 4,
   "metadata": {},
   "outputs": [],
   "source": [
    "area            = utils.get_area_haversine(masks.lat, masks.lon) # (km^2)\n",
    "da_area         = xr.Dataset(coords={'lat': masks.lat, 'lon': masks.lon})\n",
    "da_area['area'] = (('lat', 'lon'), area)"
   ]
  },
  {
   "cell_type": "markdown",
   "metadata": {},
   "source": [
    "### Parameters to create the table"
   ]
  },
  {
   "cell_type": "code",
   "execution_count": 5,
   "metadata": {},
   "outputs": [],
   "source": [
    "# Set the display format for floating-point numbers\n",
    "pd.options.display.float_format = \"{:.2f}\".format\n",
    "\n",
    "regions = [\n",
    "    \"Global\",\n",
    "    \"High EKE\",\n",
    "    \"Tropical\",\n",
    "    \"Residual\",\n",
    "    \"GWSE\",\n",
    "    \"AC\",\n",
    "    \"KE\",\n",
    "    \"GS\",\n",
    "    \"LC\",\n",
    "    \"BMC\",\n",
    "    \"EAC\",\n",
    "]\n",
    "\n",
    "regions_ = [\n",
    "    \"no ice\",\n",
    "    \"high eke\",\n",
    "    \"tropical\",\n",
    "    \"remainder\",\n",
    "    \"GWSE\",\n",
    "    \"AC\",\n",
    "    \"KE\",\n",
    "    \"GS\",\n",
    "    \"LC\",\n",
    "    \"BMC\",\n",
    "    \"EAC\",\n",
    "]\n",
    "\n",
    "\n",
    "label_unit = \"cm$^2$ s$^{-2}$\"\n",
    "\n",
    "metrics = [\n",
    "    \"Area (x10$^6$ km$^2$)\",\n",
    "    f\"Mean EKE ({label_unit})\",\n",
    "\n",
    "]"
   ]
  },
  {
   "cell_type": "markdown",
   "metadata": {},
   "source": [
    "### Create the table"
   ]
  },
  {
   "cell_type": "code",
   "execution_count": 6,
   "metadata": {},
   "outputs": [
    {
     "name": "stderr",
     "output_type": "stream",
     "text": [
      "/var/folders/1r/g9d70q7x59s6sd00xl3mmyfw0000gn/T/ipykernel_29618/3992270281.py:22: FutureWarning: In future versions `DataFrame.to_latex` is expected to utilise the base implementation of `Styler.to_latex` for formatting and rendering. The arguments signature may therefore change. It is recommended instead to use `DataFrame.style.to_latex` which also contains additional functionality.\n",
      "  latex_table = df.to_latex('../../tables/table_1.tex')\n"
     ]
    },
    {
     "data": {
      "text/html": [
       "<div>\n",
       "<style scoped>\n",
       "    .dataframe tbody tr th:only-of-type {\n",
       "        vertical-align: middle;\n",
       "    }\n",
       "\n",
       "    .dataframe tbody tr th {\n",
       "        vertical-align: top;\n",
       "    }\n",
       "\n",
       "    .dataframe thead tr th {\n",
       "        text-align: left;\n",
       "    }\n",
       "</style>\n",
       "<table border=\"1\" class=\"dataframe\">\n",
       "  <thead>\n",
       "    <tr>\n",
       "      <th></th>\n",
       "      <th colspan=\"2\" halign=\"left\">Area (x10$^6$ km$^2$)</th>\n",
       "      <th colspan=\"2\" halign=\"left\">Mean EKE (cm$^2$ s$^{-2}$)</th>\n",
       "    </tr>\n",
       "    <tr>\n",
       "      <th></th>\n",
       "      <th>ALL SAT</th>\n",
       "      <th>TWO SAT</th>\n",
       "      <th>ALL SAT</th>\n",
       "      <th>TWO SAT</th>\n",
       "    </tr>\n",
       "  </thead>\n",
       "  <tbody>\n",
       "    <tr>\n",
       "      <th>Global</th>\n",
       "      <td>327.89</td>\n",
       "      <td>327.89</td>\n",
       "      <td>224.83</td>\n",
       "      <td>227.09</td>\n",
       "    </tr>\n",
       "    <tr>\n",
       "      <th>High EKE</th>\n",
       "      <td>16.54</td>\n",
       "      <td>16.54</td>\n",
       "      <td>1018.12</td>\n",
       "      <td>1003.62</td>\n",
       "    </tr>\n",
       "    <tr>\n",
       "      <th>Tropical</th>\n",
       "      <td>43.94</td>\n",
       "      <td>43.94</td>\n",
       "      <td>330.51</td>\n",
       "      <td>354.68</td>\n",
       "    </tr>\n",
       "    <tr>\n",
       "      <th>Residual</th>\n",
       "      <td>277.34</td>\n",
       "      <td>277.34</td>\n",
       "      <td>152.73</td>\n",
       "      <td>152.46</td>\n",
       "    </tr>\n",
       "    <tr>\n",
       "      <th>GWSE</th>\n",
       "      <td>1.90</td>\n",
       "      <td>1.90</td>\n",
       "      <td>1179.16</td>\n",
       "      <td>1133.10</td>\n",
       "    </tr>\n",
       "    <tr>\n",
       "      <th>AC</th>\n",
       "      <td>5.92</td>\n",
       "      <td>5.92</td>\n",
       "      <td>982.23</td>\n",
       "      <td>974.27</td>\n",
       "    </tr>\n",
       "    <tr>\n",
       "      <th>KE</th>\n",
       "      <td>2.72</td>\n",
       "      <td>2.72</td>\n",
       "      <td>1043.04</td>\n",
       "      <td>1028.11</td>\n",
       "    </tr>\n",
       "    <tr>\n",
       "      <th>GS</th>\n",
       "      <td>2.80</td>\n",
       "      <td>2.80</td>\n",
       "      <td>1078.97</td>\n",
       "      <td>1061.14</td>\n",
       "    </tr>\n",
       "    <tr>\n",
       "      <th>LC</th>\n",
       "      <td>0.51</td>\n",
       "      <td>0.51</td>\n",
       "      <td>1133.63</td>\n",
       "      <td>1124.19</td>\n",
       "    </tr>\n",
       "    <tr>\n",
       "      <th>BMC</th>\n",
       "      <td>1.56</td>\n",
       "      <td>1.56</td>\n",
       "      <td>838.23</td>\n",
       "      <td>837.05</td>\n",
       "    </tr>\n",
       "    <tr>\n",
       "      <th>EAC</th>\n",
       "      <td>1.12</td>\n",
       "      <td>1.12</td>\n",
       "      <td>921.61</td>\n",
       "      <td>914.49</td>\n",
       "    </tr>\n",
       "  </tbody>\n",
       "</table>\n",
       "</div>"
      ],
      "text/plain": [
       "         Area (x10$^6$ km$^2$)         Mean EKE (cm$^2$ s$^{-2}$)        \n",
       "                       ALL SAT TWO SAT                    ALL SAT TWO SAT\n",
       "Global                  327.89  327.89                     224.83  227.09\n",
       "High EKE                 16.54   16.54                    1018.12 1003.62\n",
       "Tropical                 43.94   43.94                     330.51  354.68\n",
       "Residual                277.34  277.34                     152.73  152.46\n",
       "GWSE                      1.90    1.90                    1179.16 1133.10\n",
       "AC                        5.92    5.92                     982.23  974.27\n",
       "KE                        2.72    2.72                    1043.04 1028.11\n",
       "GS                        2.80    2.80                    1078.97 1061.14\n",
       "LC                        0.51    0.51                    1133.63 1124.19\n",
       "BMC                       1.56    1.56                     838.23  837.05\n",
       "EAC                       1.12    1.12                     921.61  914.49"
      ]
     },
     "execution_count": 6,
     "metadata": {},
     "output_type": "execute_result"
    }
   ],
   "source": [
    "\n",
    "columns = pd.MultiIndex.from_product([metrics, [\"ALL SAT\", \"TWO SAT\"]])\n",
    "df = pd.DataFrame(index=regions, columns=columns)\n",
    "\n",
    "for j, region in enumerate(regions):\n",
    "    reg = regions_[j]\n",
    "    \n",
    "    for k, sat in enumerate([\"ALL SAT\", \"TWO SAT\"]):\n",
    "        sat_ = sat.replace(\" \", \"_\")\n",
    "        \n",
    "        # ----- Area -----\n",
    "        df.loc[region, (\"Area (x10$^6$ km$^2$)\", sat)] = (\n",
    "            masks[reg] * da_area['area']).sum().values / 1e6\n",
    "        \n",
    "    \n",
    "        # ----- Mean EKE -----\n",
    "        # area-weighted mean EKE \n",
    "        df.loc[region, (f\"Mean EKE ({label_unit})\", sat)] = (\n",
    "            np.float32(utils.get_mean_haversine(dic[sat_]['tmean']['EKE'], masks[reg])))\n",
    "    \n",
    "    \n",
    "# convert dataframe to LaTeX\n",
    "latex_table = df.to_latex('../../tables/table_1.tex')\n",
    "csv_table   = df.to_csv('../../tables/table_1.csv')\n",
    "\n",
    "df"
   ]
  },
  {
   "cell_type": "code",
   "execution_count": null,
   "metadata": {},
   "outputs": [],
   "source": []
  }
 ],
 "metadata": {
  "kernelspec": {
   "display_name": "Python 3 (ipykernel)",
   "language": "python",
   "name": "python3"
  },
  "language_info": {
   "codemirror_mode": {
    "name": "ipython",
    "version": 3
   },
   "file_extension": ".py",
   "mimetype": "text/x-python",
   "name": "python",
   "nbconvert_exporter": "python",
   "pygments_lexer": "ipython3",
   "version": "3.9.13"
  }
 },
 "nbformat": 4,
 "nbformat_minor": 2
}
