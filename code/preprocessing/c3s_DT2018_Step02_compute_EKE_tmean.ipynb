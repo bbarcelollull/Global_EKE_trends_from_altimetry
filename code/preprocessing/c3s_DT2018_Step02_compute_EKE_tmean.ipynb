{
 "cells": [
  {
   "cell_type": "markdown",
   "metadata": {},
   "source": [
    "### Compute temporal mean of EKE (tmean in results)\n"
   ]
  },
  {
   "cell_type": "markdown",
   "metadata": {},
   "source": [
    "**This code works for the following dataset: C3S *two-sat* vDT2018**"
   ]
  },
  {
   "cell_type": "code",
   "execution_count": 1,
   "metadata": {},
   "outputs": [],
   "source": [
    "%reload_ext autoreload\n",
    "%autoreload 2\n",
    "\n",
    "import xarray as xr\n",
    "import os\n",
    "\n",
    "import sys \n",
    "sys.path.append(\"../\")"
   ]
  },
  {
   "cell_type": "code",
   "execution_count": 2,
   "metadata": {},
   "outputs": [],
   "source": [
    "type = 'TWO_SAT_C3S_vDT2018' "
   ]
  },
  {
   "cell_type": "code",
   "execution_count": 3,
   "metadata": {},
   "outputs": [
    {
     "name": "stdout",
     "output_type": "stream",
     "text": [
      "temporal mean computed for the period 1993- 2019\n"
     ]
    }
   ],
   "source": [
    "# year 2020 is not complete in this dataset, \n",
    "# temporal mean computed for the following years [1993-2019]\n",
    "maxyear = 2019\n",
    "print('temporal mean computed for the period 1993-', maxyear)"
   ]
  },
  {
   "cell_type": "code",
   "execution_count": 4,
   "metadata": {},
   "outputs": [
    {
     "name": "stdout",
     "output_type": "stream",
     "text": [
      "1993, 1994, 1995, 1996, 1997, 1998, 1999, 2000, 2001, 2002, 2003, 2004, 2005, 2006, 2007, 2008, 2009, 2010, 2011, 2012, 2013, 2014, 2015, 2016, 2017, 2018, 2019, "
     ]
    }
   ],
   "source": [
    "fold  = f'../../processed_data/EKE_GLOBAL/EKE_{type}/'\n",
    "files = os.listdir(fold)\n",
    "files.sort() \n",
    "\n",
    "all_means = []\n",
    "\n",
    "for year in range(1993, maxyear+1):\n",
    "    \n",
    "    print(year, end=', ')\n",
    "\n",
    "    files_y = [fold + file for file in files if '_' + str(year) in file]\n",
    "        \n",
    "    ds = xr.open_mfdataset(files_y, combine='by_coords', chunks={'time': 1})  \n",
    "    \n",
    "    yearly_mean = ds.mean(dim='time', skipna=False).compute()\n",
    "    \n",
    "    all_means.append(yearly_mean)\n",
    "    \n",
    "    ds.close()    \n",
    "\n",
    "mean_of_means = xr.concat(all_means, dim='time').mean(dim='time', skipna=False)\n",
    "\n",
    "save_fold = f'../../results/EKE_{type}/tmean/'\n",
    "if not os.path.exists(save_fold):\n",
    "    os.makedirs(save_fold)\n",
    "    \n",
    "mean_of_means.to_netcdf(save_fold + f'EKE_{type}_tmean.nc')"
   ]
  }
 ],
 "metadata": {
  "kernelspec": {
   "display_name": "Python 3",
   "language": "python",
   "name": "python3"
  },
  "language_info": {
   "codemirror_mode": {
    "name": "ipython",
    "version": 3
   },
   "file_extension": ".py",
   "mimetype": "text/x-python",
   "name": "python",
   "nbconvert_exporter": "python",
   "pygments_lexer": "ipython3",
   "version": "3.8.5"
  }
 },
 "nbformat": 4,
 "nbformat_minor": 2
}
