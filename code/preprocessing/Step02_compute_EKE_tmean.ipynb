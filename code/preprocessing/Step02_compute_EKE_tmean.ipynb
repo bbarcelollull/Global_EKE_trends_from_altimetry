{
 "cells": [
  {
   "cell_type": "markdown",
   "metadata": {},
   "source": [
    "### Compute temporal mean of EKE (tmean in results)"
   ]
  },
  {
   "cell_type": "markdown",
   "metadata": {},
   "source": [
    "**This code works for the following datasets: CMEMS (vDT2021) *two-sat* and *all-sat***"
   ]
  },
  {
   "cell_type": "code",
   "execution_count": 1,
   "metadata": {},
   "outputs": [],
   "source": [
    "%reload_ext autoreload\n",
    "%autoreload 2\n",
    "\n",
    "import xarray as xr\n",
    "import os\n",
    "\n",
    "import sys \n",
    "sys.path.append(\"../\")"
   ]
  },
  {
   "cell_type": "markdown",
   "metadata": {},
   "source": [
    "Select which EKE dataset you want to use: 'TWO_SAT' or 'ALL_SAT' "
   ]
  },
  {
   "cell_type": "code",
   "execution_count": null,
   "metadata": {},
   "outputs": [],
   "source": [
    "type = 'ALL_SAT' # 'TWO_SAT' or 'ALL_SAT' "
   ]
  },
  {
   "cell_type": "code",
   "execution_count": 2,
   "metadata": {},
   "outputs": [
    {
     "name": "stdout",
     "output_type": "stream",
     "text": [
      "1993, 1994, 1995, 1996, 1997, 1998, 1999, 2000, 2001, 2002, 2003, 2004, 2005, 2006, 2007, 2008, 2009, 2010, 2011, 2012, 2013, 2014, 2015, 2016, 2017, 2018, 2019, 2020, 2021, 2022, "
     ]
    }
   ],
   "source": [
    "fold = f'../../processed_data/EKE_GLOBAL/EKE_{type}/'\n",
    "all_means = []\n",
    "\n",
    "for year in range(1993, 2022+1): \n",
    "    print(year, end=', ')\n",
    "    for month in range(1, 12+1):\n",
    "        file = f'{fold}EKE_{year}_{month:02d}.nc'\n",
    "        if os.path.exists(file):\n",
    "            ds = xr.open_dataset(file, chunks={'time': 1})\n",
    "            monthly_mean = ds.mean(dim='time', skipna=False).compute()\n",
    "            all_means.append(monthly_mean)\n",
    "            ds.close()\n",
    "        else:\n",
    "            print(f\"File {file} does not exist\") \n",
    "\n",
    "\n",
    "mean_of_means = xr.concat(all_means, dim='time').mean(dim='time', skipna=False)\n"
   ]
  },
  {
   "cell_type": "code",
   "execution_count": 3,
   "metadata": {},
   "outputs": [],
   "source": [
    "savepath = f'../../results/EKE_{type}/tmean/EKE_{type}_tmean.nc' \n",
    "mean_of_means.to_netcdf(savepath)"
   ]
  }
 ],
 "metadata": {
  "kernelspec": {
   "display_name": "Python 3",
   "language": "python",
   "name": "python3"
  },
  "language_info": {
   "codemirror_mode": {
    "name": "ipython",
    "version": 3
   },
   "file_extension": ".py",
   "mimetype": "text/x-python",
   "name": "python",
   "nbconvert_exporter": "python",
   "pygments_lexer": "ipython3",
   "version": "3.8.5"
  }
 },
 "nbformat": 4,
 "nbformat_minor": 2
}
