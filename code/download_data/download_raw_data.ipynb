{
 "cells": [
  {
   "cell_type": "markdown",
   "metadata": {},
   "source": [
    "### Download raw data from CMEMS database (all-sat and two-sat DT2021)\n",
    "\n",
    "* all-sat product name: SEALEVEL_GLO_PHY_L4_MY_008_047\n",
    "* two-sat product name: SEALEVEL_GLO_PHY_CLIMATE_L4_MY_008_057\n",
    "\n",
    "\n",
    "Data is downloaded in the /raw_data folder. "
   ]
  },
  {
   "cell_type": "code",
   "execution_count": 2,
   "metadata": {},
   "outputs": [],
   "source": [
    "%reload_ext autoreload\n",
    "%autoreload 2\n",
    "\n",
    "import xarray as xr\n",
    "\n",
    "import sys\n",
    "sys.path.append('../')\n",
    "\n",
    "import data_retrieve_utils as dr\n"
   ]
  },
  {
   "cell_type": "code",
   "execution_count": 3,
   "metadata": {},
   "outputs": [],
   "source": [
    "# Set your CMEMS credentials\n",
    "username = 'username'\n",
    "password = 'password'"
   ]
  },
  {
   "cell_type": "code",
   "execution_count": null,
   "metadata": {},
   "outputs": [],
   "source": [
    "# Which product do you want to download?\n",
    "#product = 'two_sat'\n",
    "product = 'all_sat'"
   ]
  },
  {
   "cell_type": "code",
   "execution_count": 4,
   "metadata": {},
   "outputs": [],
   "source": [
    "# Download all-sat or two-sat data from 1993 to 2022\n",
    "\n",
    "for year in range(1993, 2022 + 1):\n",
    "    for month in range(1, 12 + 1):\n",
    "        dr.download_raw_data_ftp(username, password, \n",
    "                         product=product,\n",
    "                         year=year,\n",
    "                         month=month)\n"
   ]
  }
 ],
 "metadata": {
  "kernelspec": {
   "display_name": "Python 3",
   "language": "python",
   "name": "python3"
  },
  "language_info": {
   "codemirror_mode": {
    "name": "ipython",
    "version": 3
   },
   "file_extension": ".py",
   "mimetype": "text/x-python",
   "name": "python",
   "nbconvert_exporter": "python",
   "pygments_lexer": "ipython3",
   "version": "3.8.5"
  }
 },
 "nbformat": 4,
 "nbformat_minor": 2
}
